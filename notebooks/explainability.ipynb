{
 "cells": [
  {
   "cell_type": "markdown",
   "id": "4ac37c41",
   "metadata": {},
   "source": [
    "# Explainability — SHAP & Model Insights\n",
    "\n",
    "Este notebook mostra as saídas de explainability geradas pelo script `src/explain.py`. Se os artefatos estiverem em `output/`, as figuras e tabelas abaixo serão exibidas."
   ]
  },
  {
   "cell_type": "code",
   "execution_count": null,
   "id": "794378eb",
   "metadata": {},
   "outputs": [],
   "source": [
    "from IPython.display import Image, display\n",
    "from pathlib import Path\n",
    "out = Path('output')\n",
    "if (out / 'shap_summary.png').exists():\n",
    "    display(Image(filename=str(out / 'shap_summary.png')))\n",
    "else:\n",
    "    print('shap_summary.png not found in output/')"
   ]
  },
  {
   "cell_type": "code",
   "execution_count": null,
   "id": "f6ea98e9",
   "metadata": {},
   "outputs": [],
   "source": [
    "import pandas as pd\n",
    "from pathlib import Path\n",
    "out = Path('output')\n",
    "if (out / 'pr_thresholds_logreg_classweight.csv').exists():\n",
    "    print('PR thresholds:')\n",
    "    display(pd.read_csv(out / 'pr_thresholds_logreg_classweight.csv').head())\n",
    "else:\n",
    "    print('pr_thresholds_logreg_classweight.csv not found in output/')"
   ]
  }
 ],
 "metadata": {
  "language_info": {
   "name": "python"
  }
 },
 "nbformat": 4,
 "nbformat_minor": 5
}
